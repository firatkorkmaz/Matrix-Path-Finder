{
 "cells": [
  {
   "cell_type": "code",
   "execution_count": 1,
   "id": "613801d1",
   "metadata": {},
   "outputs": [],
   "source": [
    "# Traversing Matrices Downwards and Rightwards to Find the Maximum Sum of Visited Values #"
   ]
  },
  {
   "cell_type": "code",
   "execution_count": 2,
   "id": "ab6cfe6d",
   "metadata": {},
   "outputs": [
    {
     "name": "stdout",
     "output_type": "stream",
     "text": [
      "Filename of the Matrix Data: matrix1.txt\n",
      "\n",
      "Matrix:\n",
      "1  2  3  4  \n",
      "5  6  7  8  \n",
      "9  8  7  6  \n",
      "5  4  3  2  \n",
      "\n",
      "The Path of Maximum Sum from (0,0) to (3,3)\n",
      "by Only Traversing Downwards & Rightwards:\n",
      "\n",
      "[1, 5, 9, 8, 7, 6, 2] -> 38\n"
     ]
    }
   ],
   "source": [
    "def MaxPathSum(matrix):\n",
    "    n = len(matrix)         # Number of Rows\n",
    "    m = len(matrix[0])      # Number of Columns\n",
    "\n",
    "    summary = [[[] for i in range(m + 1)] for j in range(n + 1)]    # (n+1) x (m+1) Empty-List Matrix\n",
    "\n",
    "    # Finding the Path of Maximum Sum\n",
    "    for i in range(1, n + 1):\n",
    "        for j in range(1, m + 1):\n",
    "            if sum(summary[i - 1][j]) >= sum(summary[i][j - 1]):\n",
    "                summary[i][j] = summary[i - 1][j].copy()\n",
    "            else:\n",
    "                summary[i][j] = summary[i][j - 1].copy()\n",
    "            summary[i][j].append(matrix[i - 1][j - 1])\n",
    "            \n",
    "    '''\n",
    "    Example Matrix: m, (2 x 2) -> Zero Matrix: sum, (3 x 3)\n",
    "    m:|1  2| sum:|0  0  0| sum:|0       0       0  |\n",
    "      |3  1|     |0  0  0|     |0       1      1+2 | -> sum[1][1]=max(0,0)+m[0][0]; sum[1][2]=max(0,1)+m[0][1]\n",
    "                 |0  0  0|     |0      1+3    1+3+1| -> sum[2][1]=max(1,0)+m[1][0]; sum[2][2]=max(1+2,1+3)+m[1][1]\n",
    "    \n",
    "    maxSum = sum[-1][-1] = sum[2][2] = 1+3+1 = 5\n",
    "    ''';\n",
    "    return summary[n][m]\n",
    "\n",
    "\n",
    "def main(filename=None):\n",
    "    if filename == None:\n",
    "        filename = input(\"Filename of the Matrix Data: \").strip()\n",
    "\n",
    "    try:\n",
    "        f_lines = open(filename, \"r\")\n",
    "    except:\n",
    "        print(f\"\\n{filename} File does Not Exist!\")\n",
    "        return\n",
    "\n",
    "    matrix = []\n",
    "    temp = []\n",
    "\n",
    "    # Getting Matrix Values to Print\n",
    "    for line in f_lines:\n",
    "        num_line = line.replace(\"\\n\", \"\").split(\" \")\n",
    "        for num in num_line:\n",
    "            if num != \"\":\n",
    "                temp.append(int(num))\n",
    "        matrix.append(temp.copy())\n",
    "        temp.clear()\n",
    "\n",
    "    # Printing Matrix Values\n",
    "    print(\"\\nMatrix:\")\n",
    "    for numbers in matrix:\n",
    "        for num in numbers:\n",
    "            print(num, end=\"  \")\n",
    "        print()\n",
    "    print()\n",
    "\n",
    "    # Calculating and Printing the Maximum Sum of Visited Values\n",
    "    max_sum = MaxPathSum(matrix)\n",
    "    print(f\"The Path of Maximum Sum from (0,0) to ({len(matrix) - 1},{len(matrix[0]) - 1})\")\n",
    "    print(f\"by Only Traversing Downwards & Rightwards:\\n\")\n",
    "    print(f\"{max_sum} -> {sum(max_sum)}\")\n",
    "\n",
    "\n",
    "if __name__ == '__main__':\n",
    "    # filename=\"matrix1.txt\"\n",
    "    # main(filename)\n",
    "    main()"
   ]
  },
  {
   "cell_type": "code",
   "execution_count": 3,
   "id": "1b76b645",
   "metadata": {},
   "outputs": [
    {
     "name": "stdout",
     "output_type": "stream",
     "text": [
      "Filename of the Matrix Data: matrix2.txt\n",
      "\n",
      "Matrix:\n",
      "1  1  0  0  \n",
      "0  1  1  2  \n",
      "0  1  0  1  \n",
      "0  1  1  1  \n",
      "\n",
      "The Path of Maximum Sum from (0,0) to (3,3)\n",
      "by Only Traversing Downwards & Rightwards:\n",
      "\n",
      "[1, 1, 1, 1, 2, 1, 1] -> 8\n"
     ]
    }
   ],
   "source": [
    "main()"
   ]
  },
  {
   "cell_type": "code",
   "execution_count": 4,
   "id": "d554b757",
   "metadata": {},
   "outputs": [
    {
     "name": "stdout",
     "output_type": "stream",
     "text": [
      "Row Number of Matrix: 4\n",
      "Column Number of Matrix: 5\n",
      "\n",
      "New Matrix Data with Random Numbers:\n",
      "Dim: (4 x 5), File: \"random_matrix.txt\"\n"
     ]
    }
   ],
   "source": [
    "# OPTIONAL: Matrix Data Generator with Random Numbers Between 1 and 9\n",
    "\n",
    "from random import *\n",
    "\n",
    "def generate_matrix(row, col, max_value):\n",
    "    content = \"\"                # String for the Whole File\n",
    "\n",
    "    for i in range(0, row):\n",
    "        line = \"\"               # String for Each Row\n",
    "\n",
    "        for j in range(0, col):\n",
    "            if j != 0:\n",
    "                line += \" \"     # Putting Space Between the Numbers\n",
    "            line += str(randint(1, max_value)).zfill(1)  # zfill(1): 1 >> 1 || 4 >> 4\n",
    "\n",
    "        content += line + '\\n'  # Adding Each Line to the Big Content String\n",
    "\n",
    "    return content              # Returning the Content of the File\n",
    "\n",
    "\n",
    "while True:\n",
    "    row = input(\"Row Number of Matrix: \").strip()\n",
    "    if not row.isdigit():\n",
    "        print(\"Please Enter An Integer!\\n\")\n",
    "        continue\n",
    "    else:\n",
    "        row = int(row)\n",
    "        break\n",
    "        \n",
    "while True:\n",
    "    col = input(\"Column Number of Matrix: \").strip()\n",
    "    if not col.isdigit():\n",
    "        print(\"Please Enter An Integer!\\n\")\n",
    "        continue\n",
    "    else:\n",
    "        col = int(col)\n",
    "        break\n",
    "        \n",
    "filename = \"random_matrix.txt\"\n",
    "max_value = 9                   # Numbers with Up to 1 Digit\n",
    "\n",
    "with open(filename, 'w') as file:\n",
    "    content = generate_matrix(row, col, max_value)\n",
    "    file.write(content)         # Writing the Randomly Generated Matrix to File\n",
    "    print(\"\\nNew Matrix Data with Random Numbers:\")\n",
    "    print(f\"Dim: ({row} x {col}), File: \\\"random_matrix.txt\\\"\")"
   ]
  },
  {
   "cell_type": "code",
   "execution_count": 5,
   "id": "7ea13e41",
   "metadata": {},
   "outputs": [
    {
     "name": "stdout",
     "output_type": "stream",
     "text": [
      "\n",
      "Matrix:\n",
      "9  9  3  4  6  \n",
      "2  8  2  7  7  \n",
      "8  5  5  9  3  \n",
      "2  3  8  2  6  \n",
      "\n",
      "The Path of Maximum Sum from (0,0) to (3,4)\n",
      "by Only Traversing Downwards & Rightwards:\n",
      "\n",
      "[9, 9, 8, 5, 5, 9, 3, 6] -> 54\n"
     ]
    }
   ],
   "source": [
    "main(\"random_matrix.txt\")"
   ]
  },
  {
   "cell_type": "code",
   "execution_count": null,
   "id": "556644be",
   "metadata": {},
   "outputs": [],
   "source": []
  }
 ],
 "metadata": {
  "kernelspec": {
   "display_name": "Python 3 (ipykernel)",
   "language": "python",
   "name": "python3"
  },
  "language_info": {
   "codemirror_mode": {
    "name": "ipython",
    "version": 3
   },
   "file_extension": ".py",
   "mimetype": "text/x-python",
   "name": "python",
   "nbconvert_exporter": "python",
   "pygments_lexer": "ipython3",
   "version": "3.10.13"
  }
 },
 "nbformat": 4,
 "nbformat_minor": 5
}
